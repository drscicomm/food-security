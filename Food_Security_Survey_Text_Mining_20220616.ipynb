{
  "nbformat": 4,
  "nbformat_minor": 0,
  "metadata": {
    "colab": {
      "name": "Food Security Survey Text Mining_20220616.ipynb",
      "provenance": [],
      "collapsed_sections": [],
      "mount_file_id": "1jszBLsn7FBs_stB1jiKXgzdREh0jW20u",
      "authorship_tag": "ABX9TyP/PiAzde/aQN54iz4exxMG",
      "include_colab_link": true
    },
    "kernelspec": {
      "name": "python3",
      "display_name": "Python 3"
    },
    "language_info": {
      "name": "python"
    }
  },
  "cells": [
    {
      "cell_type": "markdown",
      "metadata": {
        "id": "view-in-github",
        "colab_type": "text"
      },
      "source": [
        "<a href=\"https://colab.research.google.com/github/drscicomm/food-security/blob/main/Food_Security_Survey_Text_Mining_20220616.ipynb\" target=\"_parent\"><img src=\"https://colab.research.google.com/assets/colab-badge.svg\" alt=\"Open In Colab\"/></a>"
      ]
    },
    {
      "cell_type": "markdown",
      "metadata": {
        "id": "ZgA2nIAJBabu"
      },
      "source": [
        "# Word Frequency in 'Machine Leaning for Food Assistance' Scoping Review\n",
        "Preprocessing source code: https://towardsdatascience.com/nlp-preprocessing-with-nltk-3c04ee00edc0"
      ]
    },
    {
      "cell_type": "markdown",
      "metadata": {
        "id": "KVSw2whrY1oj"
      },
      "source": [
        "# Mount Google Drive and Import File"
      ]
    },
    {
      "cell_type": "markdown",
      "metadata": {
        "id": "Ag3t3gps-d-0"
      },
      "source": [
        "# Preprocess text file for Natural Language Processing </br>\n",
        "\n",
        "\n",
        "*   Convert to lowercase\n",
        "*   Remove numbers\n",
        "\n",
        "*   Remove punctuation\n",
        "*   Tokenization\n",
        "\n",
        "\n",
        "*   Filter stop words\n",
        "*   Stemming\n",
        "\n",
        "\n",
        "*   Part of Speech (POS) Tagger\n",
        "\n",
        "\n",
        "\n",
        "\n",
        "\n",
        "\n",
        "\n"
      ]
    },
    {
      "cell_type": "code",
      "metadata": {
        "colab": {
          "base_uri": "https://localhost:8080/"
        },
        "id": "1oEhSvZYZvoK",
        "outputId": "d4b88b7b-817c-4380-d56e-4c6bac4c129f"
      },
      "source": [
        "# Import NLP preprocessing dependencies\n",
        "import nltk\n",
        "nltk.download('punkt')\n",
        "nltk.download('stopwords')"
      ],
      "execution_count": null,
      "outputs": [
        {
          "output_type": "stream",
          "name": "stderr",
          "text": [
            "[nltk_data] Downloading package punkt to /root/nltk_data...\n",
            "[nltk_data]   Package punkt is already up-to-date!\n",
            "[nltk_data] Downloading package stopwords to /root/nltk_data...\n",
            "[nltk_data]   Package stopwords is already up-to-date!\n"
          ]
        },
        {
          "output_type": "execute_result",
          "data": {
            "text/plain": [
              "True"
            ]
          },
          "metadata": {},
          "execution_count": 25
        }
      ]
    },
    {
      "cell_type": "code",
      "metadata": {
        "id": "i2kUkKLv-9kJ"
      },
      "source": [
        "# load data\n",
        "filename = '/content/Q13 3 to 5 challenges.csv'\n",
        "file = open(filename, 'rt')\n",
        "text = file.read()\n",
        "file.close()"
      ],
      "execution_count": null,
      "outputs": []
    },
    {
      "cell_type": "code",
      "metadata": {
        "id": "Ee7N7Pzao5tI"
      },
      "source": [
        "# split into words\n",
        "from nltk.tokenize import word_tokenize\n",
        "tokens = word_tokenize(text)"
      ],
      "execution_count": null,
      "outputs": []
    },
    {
      "cell_type": "code",
      "metadata": {
        "id": "B9E6Vo0DpALg"
      },
      "source": [
        "# convert to lower case\n",
        "tokens = [w.lower() for w in tokens]"
      ],
      "execution_count": null,
      "outputs": []
    },
    {
      "cell_type": "code",
      "metadata": {
        "id": "EHdNBEOApLKc"
      },
      "source": [
        "# remove punctuation from each word\n",
        "import string\n",
        "table = str.maketrans('', '', string.punctuation)\n",
        "stripped = [w.translate(table) for w in tokens]"
      ],
      "execution_count": null,
      "outputs": []
    },
    {
      "cell_type": "code",
      "metadata": {
        "id": "qNNFbVIMpEPw"
      },
      "source": [
        "# remove remaining tokens that are not alphabetic\n",
        "words = [word for word in stripped if word.isalpha()]"
      ],
      "execution_count": null,
      "outputs": []
    },
    {
      "cell_type": "code",
      "metadata": {
        "colab": {
          "base_uri": "https://localhost:8080/"
        },
        "id": "o4Kpf67vpKLc",
        "outputId": "7a93a337-6f07-4d31-ff47-1ec9ee3a8b26"
      },
      "source": [
        "# filter out stop words\n",
        "from nltk.corpus import stopwords\n",
        "stop_words = set(stopwords.words('english') + ['given'] + ['also']+ ['na'] + ['yes'] + ['log'] + ['lev'] + ['wwwplosoneorg'] + ['used'] + ['plosone'] + ['using'] + ['et'] + ['1b'] + ['iii'] + ['plos'] + ['al'] + ['gi'] + ['j'] + ['ic'] + ['ur'] + ['sd'] + ['ar'] + ['fs'] + ['gi'] + ['f'] + ['b'] + ['es'])\n",
        "words = [w for w in words if not w in stop_words] \n",
        "print(words[:50])"
      ],
      "execution_count": null,
      "outputs": [
        {
          "output_type": "stream",
          "name": "stdout",
          "text": [
            "['enough', 'money', 'purchase', 'food', 'nt', 'enough', 'donated', 'food', 'available', 'lack', 'funding', 'competition', 'funding', 'lack', 'respects', 'agenda', 'organization', 'donors', 'supply', 'chain', 'issues', 'increased', 'cost', 'food', 'increase', 'participation', 'food', 'programs', 'funding', 'staffing', 'food', 'access', 'staff', 'volunteers', 'truck', 'get', 'funding', 'food', 'insecurity', 'statistics', 'fully', 'capture', 'scope', 'scale', 'many', 'ways', 'marylanders', 'experience', 'food', 'hardship']\n"
          ]
        }
      ]
    },
    {
      "cell_type": "markdown",
      "metadata": {
        "id": "zJ8DI5_ZwMY4"
      },
      "source": [
        "# Calculate Word Frequency Distribution"
      ]
    },
    {
      "cell_type": "code",
      "metadata": {
        "id": "fR7qKqQGqVdg"
      },
      "source": [
        "# calculate word frequency distribution\n",
        "from nltk.probability import FreqDist\n",
        "data_analysis = nltk.FreqDist(words)"
      ],
      "execution_count": null,
      "outputs": []
    },
    {
      "cell_type": "code",
      "metadata": {
        "colab": {
          "base_uri": "https://localhost:8080/",
          "height": 1000
        },
        "id": "kbTRWI61quU3",
        "outputId": "6bfc23f2-b0ee-4bc4-f98e-9c86b7851657"
      },
      "source": [
        "# Let's take the specific words only if their frequency is greater than 3.\n",
        "filter_words = dict([(m, n) for m, n in data_analysis.items() if len(m) > 3])\n",
        " \n",
        "for key in sorted(filter_words):\n",
        "    print(\"%s: %s\" % (key, filter_words[key]))\n",
        " \n",
        "data_analysis = nltk.FreqDist(filter_words)\n",
        " \n",
        "data_analysis.plot(25, cumulative=False)"
      ],
      "execution_count": null,
      "outputs": [
        {
          "output_type": "stream",
          "name": "stdout",
          "text": [
            "access: 3\n",
            "accurate: 1\n",
            "agencies: 3\n",
            "agenda: 1\n",
            "another: 1\n",
            "availability: 3\n",
            "available: 3\n",
            "bank: 1\n",
            "budget: 1\n",
            "budgetfinancial: 1\n",
            "capacity: 1\n",
            "capture: 1\n",
            "carryout: 1\n",
            "census: 1\n",
            "chain: 4\n",
            "challenge: 1\n",
            "challenging: 2\n",
            "clear: 1\n",
            "clients: 1\n",
            "collecting: 1\n",
            "collection: 1\n",
            "competition: 1\n",
            "consistent: 1\n",
            "constraints: 1\n",
            "cost: 1\n",
            "costs: 1\n",
            "create: 1\n",
            "data: 7\n",
            "defining: 1\n",
            "demand: 1\n",
            "deserts: 1\n",
            "different: 1\n",
            "distribute: 1\n",
            "distribution: 1\n",
            "donated: 1\n",
            "donors: 1\n",
            "enough: 2\n",
            "erratic: 1\n",
            "expense: 1\n",
            "experience: 1\n",
            "facility: 1\n",
            "federal: 1\n",
            "finding: 1\n",
            "fiscal: 1\n",
            "food: 22\n",
            "fully: 1\n",
            "funding: 8\n",
            "funds: 1\n",
            "generally: 1\n",
            "getting: 1\n",
            "government: 1\n",
            "governmental: 2\n",
            "hardship: 1\n",
            "high: 1\n",
            "higher: 1\n",
            "household: 1\n",
            "human: 1\n",
            "impression: 1\n",
            "incomes: 1\n",
            "increase: 2\n",
            "increased: 1\n",
            "insecure: 1\n",
            "insecurity: 3\n",
            "insufficiency: 1\n",
            "internet: 1\n",
            "intervention: 1\n",
            "issues: 1\n",
            "lack: 4\n",
            "lags: 1\n",
            "limitation: 1\n",
            "limited: 1\n",
            "local: 1\n",
            "localized: 1\n",
            "location: 1\n",
            "makes: 1\n",
            "many: 1\n",
            "maryland: 1\n",
            "marylanders: 1\n",
            "meet: 1\n",
            "member: 1\n",
            "metric: 1\n",
            "might: 1\n",
            "mission: 1\n",
            "money: 1\n",
            "monitor: 1\n",
            "monitoring: 1\n",
            "narrowly: 1\n",
            "need: 4\n",
            "obtaining: 1\n",
            "optimize: 1\n",
            "orders: 1\n",
            "organization: 2\n",
            "organizations: 1\n",
            "outcomes: 1\n",
            "participation: 1\n",
            "populations: 1\n",
            "prepandemic: 1\n",
            "prioritizes: 1\n",
            "prioritizing: 1\n",
            "procured: 1\n",
            "procurement: 1\n",
            "product: 1\n",
            "programs: 1\n",
            "progress: 1\n",
            "provide: 1\n",
            "pulse: 1\n",
            "purchase: 1\n",
            "purchased: 1\n",
            "realtime: 1\n",
            "recognize: 1\n",
            "regulations: 2\n",
            "reluctance: 1\n",
            "residents: 1\n",
            "resources: 3\n",
            "respects: 1\n",
            "scale: 1\n",
            "scope: 1\n",
            "security: 1\n",
            "several: 1\n",
            "severely: 1\n",
            "share: 1\n",
            "shortages: 1\n",
            "slightly: 1\n",
            "space: 2\n",
            "speed: 1\n",
            "staff: 1\n",
            "staffing: 2\n",
            "state: 2\n",
            "statewide: 1\n",
            "statistics: 1\n",
            "store: 1\n",
            "supply: 4\n",
            "support: 2\n",
            "survey: 1\n",
            "sustainable: 1\n",
            "truck: 1\n",
            "underreporting: 1\n",
            "unwittingly: 1\n",
            "usda: 2\n",
            "uses: 1\n",
            "various: 1\n",
            "volunteer: 1\n",
            "volunteers: 1\n",
            "ways: 1\n",
            "work: 1\n",
            "would: 1\n",
            "year: 1\n",
            "years: 1\n"
          ]
        },
        {
          "output_type": "display_data",
          "data": {
            "text/plain": [
              "<Figure size 432x288 with 1 Axes>"
            ],
            "image/png": "[encoded data removed]"
          },
          "metadata": {
            "needs_background": "light"
          }
        },
        {
          "output_type": "execute_result",
          "data": {
            "text/plain": [
              "<matplotlib.axes._subplots.AxesSubplot at 0x7f72939b2550>"
            ]
          },
          "metadata": {},
          "execution_count": 33
        }
      ]
    },
    {
      "cell_type": "code",
      "metadata": {
        "colab": {
          "base_uri": "https://localhost:8080/"
        },
        "id": "-d2DQre3rVY6",
        "outputId": "4129253f-3648-4a71-9a72-98ac556e18dd"
      },
      "source": [
        "data_analysis.most_common(50)"
      ],
      "execution_count": null,
      "outputs": [
        {
          "output_type": "execute_result",
          "data": {
            "text/plain": [
              "[('food', 22),\n",
              " ('funding', 8),\n",
              " ('data', 7),\n",
              " ('lack', 4),\n",
              " ('supply', 4),\n",
              " ('chain', 4),\n",
              " ('need', 4),\n",
              " ('available', 3),\n",
              " ('access', 3),\n",
              " ('insecurity', 3),\n",
              " ('resources', 3),\n",
              " ('availability', 3),\n",
              " ('agencies', 3),\n",
              " ('enough', 2),\n",
              " ('organization', 2),\n",
              " ('increase', 2),\n",
              " ('staffing', 2),\n",
              " ('state', 2),\n",
              " ('challenging', 2),\n",
              " ('support', 2),\n",
              " ('usda', 2),\n",
              " ('governmental', 2),\n",
              " ('regulations', 2),\n",
              " ('space', 2),\n",
              " ('money', 1),\n",
              " ('purchase', 1),\n",
              " ('donated', 1),\n",
              " ('competition', 1),\n",
              " ('respects', 1),\n",
              " ('agenda', 1),\n",
              " ('donors', 1),\n",
              " ('issues', 1),\n",
              " ('increased', 1),\n",
              " ('cost', 1),\n",
              " ('participation', 1),\n",
              " ('programs', 1),\n",
              " ('staff', 1),\n",
              " ('volunteers', 1),\n",
              " ('truck', 1),\n",
              " ('statistics', 1),\n",
              " ('fully', 1),\n",
              " ('capture', 1),\n",
              " ('scope', 1),\n",
              " ('scale', 1),\n",
              " ('many', 1),\n",
              " ('ways', 1),\n",
              " ('marylanders', 1),\n",
              " ('experience', 1),\n",
              " ('hardship', 1),\n",
              " ('underreporting', 1)]"
            ]
          },
          "metadata": {},
          "execution_count": 34
        }
      ]
    },
    {
      "cell_type": "code",
      "metadata": {
        "id": "kD0rjpq7ta_v"
      },
      "source": [
        "import pandas as pd"
      ],
      "execution_count": null,
      "outputs": []
    },
    {
      "cell_type": "code",
      "metadata": {
        "colab": {
          "base_uri": "https://localhost:8080/"
        },
        "id": "WtWGD6wEtlvS",
        "outputId": "3e1b3a0b-5725-46a0-ec2e-506db7e2dfcd"
      },
      "source": [
        "df_common = pd.DataFrame(data_analysis.most_common(50),\n",
        "                    columns=['Word', 'Frequency'])\n",
        "print(df_common)"
      ],
      "execution_count": null,
      "outputs": [
        {
          "output_type": "stream",
          "name": "stdout",
          "text": [
            "              Word  Frequency\n",
            "0             food         22\n",
            "1          funding          8\n",
            "2             data          7\n",
            "3             lack          4\n",
            "4           supply          4\n",
            "5            chain          4\n",
            "6             need          4\n",
            "7        available          3\n",
            "8           access          3\n",
            "9       insecurity          3\n",
            "10       resources          3\n",
            "11    availability          3\n",
            "12        agencies          3\n",
            "13          enough          2\n",
            "14    organization          2\n",
            "15        increase          2\n",
            "16        staffing          2\n",
            "17           state          2\n",
            "18     challenging          2\n",
            "19         support          2\n",
            "20            usda          2\n",
            "21    governmental          2\n",
            "22     regulations          2\n",
            "23           space          2\n",
            "24           money          1\n",
            "25        purchase          1\n",
            "26         donated          1\n",
            "27     competition          1\n",
            "28        respects          1\n",
            "29          agenda          1\n",
            "30          donors          1\n",
            "31          issues          1\n",
            "32       increased          1\n",
            "33            cost          1\n",
            "34   participation          1\n",
            "35        programs          1\n",
            "36           staff          1\n",
            "37      volunteers          1\n",
            "38           truck          1\n",
            "39      statistics          1\n",
            "40           fully          1\n",
            "41         capture          1\n",
            "42           scope          1\n",
            "43           scale          1\n",
            "44            many          1\n",
            "45            ways          1\n",
            "46     marylanders          1\n",
            "47      experience          1\n",
            "48        hardship          1\n",
            "49  underreporting          1\n"
          ]
        }
      ]
    },
    {
      "cell_type": "code",
      "metadata": {
        "id": "uY_kj4iIu35F"
      },
      "source": [
        "# convert pandas dataframe to CSV file\n",
        "df_common.to_csv('most_common.csv')"
      ],
      "execution_count": null,
      "outputs": []
    },
    {
      "cell_type": "markdown",
      "metadata": {
        "id": "hshqvrp6z1GE"
      },
      "source": [
        "# Frequency of word pairs (bigrams)"
      ]
    },
    {
      "cell_type": "code",
      "metadata": {
        "colab": {
          "base_uri": "https://localhost:8080/"
        },
        "id": "pb0LMnHczrBr",
        "outputId": "b3baa9c9-cd35-4fd3-8f6e-eed834a9ac4b"
      },
      "source": [
        "#Create bigrams\n",
        "bgs = nltk.bigrams(words)\n",
        "\n",
        "#compute frequency distribution for all the bigrams in the text\n",
        "fdist = nltk.FreqDist(bgs)\n",
        "for k,v in fdist.items():\n",
        "    print (k,v)"
      ],
      "execution_count": null,
      "outputs": [
        {
          "output_type": "stream",
          "name": "stdout",
          "text": [
            "('enough', 'money') 1\n",
            "('money', 'purchase') 1\n",
            "('purchase', 'food') 1\n",
            "('food', 'nt') 1\n",
            "('nt', 'enough') 1\n",
            "('enough', 'donated') 1\n",
            "('donated', 'food') 1\n",
            "('food', 'available') 1\n",
            "('available', 'lack') 1\n",
            "('lack', 'funding') 1\n",
            "('funding', 'competition') 1\n",
            "('competition', 'funding') 1\n",
            "('funding', 'lack') 1\n",
            "('lack', 'respects') 1\n",
            "('respects', 'agenda') 1\n",
            "('agenda', 'organization') 1\n",
            "('organization', 'donors') 1\n",
            "('donors', 'supply') 1\n",
            "('supply', 'chain') 4\n",
            "('chain', 'issues') 1\n",
            "('issues', 'increased') 1\n",
            "('increased', 'cost') 1\n",
            "('cost', 'food') 1\n",
            "('food', 'increase') 2\n",
            "('increase', 'participation') 1\n",
            "('participation', 'food') 1\n",
            "('food', 'programs') 1\n",
            "('programs', 'funding') 1\n",
            "('funding', 'staffing') 1\n",
            "('staffing', 'food') 1\n",
            "('food', 'access') 2\n",
            "('access', 'staff') 1\n",
            "('staff', 'volunteers') 1\n",
            "('volunteers', 'truck') 1\n",
            "('truck', 'get') 1\n",
            "('get', 'funding') 1\n",
            "('funding', 'food') 1\n",
            "('food', 'insecurity') 3\n",
            "('insecurity', 'statistics') 1\n",
            "('statistics', 'fully') 1\n",
            "('fully', 'capture') 1\n",
            "('capture', 'scope') 1\n",
            "('scope', 'scale') 1\n",
            "('scale', 'many') 1\n",
            "('many', 'ways') 1\n",
            "('ways', 'marylanders') 1\n",
            "('marylanders', 'experience') 1\n",
            "('experience', 'food') 1\n",
            "('food', 'hardship') 1\n",
            "('hardship', 'due') 1\n",
            "('due', 'underreporting') 1\n",
            "('underreporting', 'defining') 1\n",
            "('defining', 'food') 1\n",
            "('insecurity', 'narrowly') 1\n",
            "('narrowly', 'might') 1\n",
            "('might', 'unwittingly') 1\n",
            "('unwittingly', 'create') 1\n",
            "('create', 'impression') 1\n",
            "('impression', 'maryland') 1\n",
            "('maryland', 'food') 1\n",
            "('food', 'bank') 1\n",
            "('bank', 'prioritizes') 1\n",
            "('prioritizes', 'state') 1\n",
            "('state', 'severely') 1\n",
            "('severely', 'food') 1\n",
            "('food', 'insecure') 1\n",
            "('insecure', 'populations') 1\n",
            "('populations', 'expense') 1\n",
            "('expense', 'residents') 1\n",
            "('residents', 'slightly') 1\n",
            "('slightly', 'higher') 1\n",
            "('higher', 'incomes') 1\n",
            "('incomes', 'need') 1\n",
            "('need', 'obtaining') 1\n",
            "('obtaining', 'realtime') 1\n",
            "('realtime', 'food') 1\n",
            "('insecurity', 'data') 1\n",
            "('data', 'another') 1\n",
            "('another', 'challenge') 1\n",
            "('challenge', 'fi') 1\n",
            "('fi', 'data') 1\n",
            "('data', 'prepandemic') 1\n",
            "('prepandemic', 'census') 1\n",
            "('census', 'household') 1\n",
            "('household', 'pulse') 1\n",
            "('pulse', 'survey') 1\n",
            "('survey', 'uses') 1\n",
            "('uses', 'different') 1\n",
            "('different', 'metric') 1\n",
            "('metric', 'food') 1\n",
            "('food', 'insufficiency') 1\n",
            "('insufficiency', 'localized') 1\n",
            "('localized', 'food') 1\n",
            "('food', 'security') 1\n",
            "('security', 'data') 1\n",
            "('data', 'lags') 1\n",
            "('lags', 'several') 1\n",
            "('several', 'years') 1\n",
            "('years', 'collecting') 1\n",
            "('collecting', 'data') 1\n",
            "('data', 'volunteer') 1\n",
            "('volunteer', 'led') 1\n",
            "('led', 'organizations') 1\n",
            "('organizations', 'challenging') 1\n",
            "('challenging', 'lack') 1\n",
            "('lack', 'statewide') 1\n",
            "('statewide', 'access') 1\n",
            "('access', 'high') 1\n",
            "('high', 'speed') 1\n",
            "('speed', 'internet') 1\n",
            "('internet', 'makes') 1\n",
            "('makes', 'data') 1\n",
            "('data', 'collection') 1\n",
            "('collection', 'challenging') 1\n",
            "('challenging', 'clear') 1\n",
            "('clear', 'data') 1\n",
            "('data', 'outcomes') 1\n",
            "('outcomes', 'intervention') 1\n",
            "('intervention', 'reluctance') 1\n",
            "('reluctance', 'clients') 1\n",
            "('clients', 'share') 1\n",
            "('share', 'available') 1\n",
            "('available', 'resources') 1\n",
            "('resources', 'meet') 1\n",
            "('meet', 'need') 1\n",
            "('need', 'erratic') 1\n",
            "('erratic', 'support') 1\n",
            "('support', 'usda') 1\n",
            "('usda', 'work') 1\n",
            "('work', 'supply') 1\n",
            "('chain', 'funding') 1\n",
            "('funding', 'distribution') 1\n",
            "('distribution', 'funding') 1\n",
            "('funding', 'capacity') 1\n",
            "('capacity', 'availability') 1\n",
            "('availability', 'human') 1\n",
            "('human', 'resources') 1\n",
            "('resources', 'available') 1\n",
            "('available', 'monitoring') 1\n",
            "('monitoring', 'budgetfinancial') 1\n",
            "('budgetfinancial', 'resources') 1\n",
            "('resources', 'governmental') 1\n",
            "('governmental', 'regulations') 2\n",
            "('regulations', 'staffing') 1\n",
            "('staffing', 'monitor') 1\n",
            "('monitor', 'progress') 1\n",
            "('progress', 'budget') 1\n",
            "('budget', 'constraints') 1\n",
            "('constraints', 'organization') 1\n",
            "('organization', 'carryout') 1\n",
            "('carryout', 'mission') 1\n",
            "('mission', 'governmental') 1\n",
            "('regulations', 'funds') 1\n",
            "('funds', 'purchased') 1\n",
            "('purchased', 'food') 1\n",
            "('food', 'facility') 1\n",
            "('facility', 'space') 1\n",
            "('space', 'store') 1\n",
            "('store', 'procured') 1\n",
            "('procured', 'food') 1\n",
            "('food', 'government') 1\n",
            "('government', 'support') 1\n",
            "('support', 'local') 1\n",
            "('local', 'state') 1\n",
            "('state', 'federal') 1\n",
            "('federal', 'availability') 1\n",
            "('availability', 'food') 1\n",
            "('food', 'costs') 1\n",
            "('costs', 'food') 1\n",
            "('increase', 'demand') 1\n",
            "('demand', 'getting') 1\n",
            "('getting', 'accurate') 1\n",
            "('accurate', 'data') 1\n",
            "('data', 'member') 1\n",
            "('member', 'agencies') 1\n",
            "('agencies', 'prioritizing') 1\n",
            "('prioritizing', 'need') 1\n",
            "('need', 'various') 1\n",
            "('various', 'agencies') 1\n",
            "('agencies', 'lack') 1\n",
            "('lack', 'space') 1\n",
            "('space', 'optimize') 1\n",
            "('optimize', 'food') 1\n",
            "('food', 'procurement') 1\n",
            "('procurement', 'need') 1\n",
            "('need', 'food') 1\n",
            "('food', 'availability') 1\n",
            "('availability', 'location') 1\n",
            "('location', 'funding') 1\n",
            "('funding', 'generally') 1\n",
            "('generally', 'limited') 1\n",
            "('limited', 'year') 1\n",
            "('year', 'recognize') 1\n",
            "('recognize', 'sustainable') 1\n",
            "('sustainable', 'funding') 1\n",
            "('funding', 'would') 1\n",
            "('would', 'provide') 1\n",
            "('provide', 'consistent') 1\n",
            "('consistent', 'food') 1\n",
            "('access', 'supply') 1\n",
            "('chain', 'usda') 1\n",
            "('usda', 'food') 1\n",
            "('food', 'orders') 1\n",
            "('orders', 'finding') 1\n",
            "('finding', 'agencies') 1\n",
            "('agencies', 'distribute') 1\n",
            "('distribute', 'food') 1\n",
            "('food', 'deserts') 1\n",
            "('deserts', 'fiscal') 1\n",
            "('fiscal', 'limitation') 1\n",
            "('limitation', 'supply') 1\n",
            "('chain', 'product') 1\n",
            "('product', 'shortages') 1\n"
          ]
        }
      ]
    },
    {
      "cell_type": "code",
      "metadata": {
        "colab": {
          "base_uri": "https://localhost:8080/"
        },
        "id": "-VlM41etzvJY",
        "outputId": "d2b1449e-16f5-417a-c556-b1d09b0474d1"
      },
      "source": [
        "fdist.most_common(100)"
      ],
      "execution_count": null,
      "outputs": [
        {
          "output_type": "execute_result",
          "data": {
            "text/plain": [
              "[(('supply', 'chain'), 4),\n",
              " (('food', 'insecurity'), 3),\n",
              " (('food', 'increase'), 2),\n",
              " (('food', 'access'), 2),\n",
              " (('governmental', 'regulations'), 2),\n",
              " (('enough', 'money'), 1),\n",
              " (('money', 'purchase'), 1),\n",
              " (('purchase', 'food'), 1),\n",
              " (('food', 'nt'), 1),\n",
              " (('nt', 'enough'), 1),\n",
              " (('enough', 'donated'), 1),\n",
              " (('donated', 'food'), 1),\n",
              " (('food', 'available'), 1),\n",
              " (('available', 'lack'), 1),\n",
              " (('lack', 'funding'), 1),\n",
              " (('funding', 'competition'), 1),\n",
              " (('competition', 'funding'), 1),\n",
              " (('funding', 'lack'), 1),\n",
              " (('lack', 'respects'), 1),\n",
              " (('respects', 'agenda'), 1),\n",
              " (('agenda', 'organization'), 1),\n",
              " (('organization', 'donors'), 1),\n",
              " (('donors', 'supply'), 1),\n",
              " (('chain', 'issues'), 1),\n",
              " (('issues', 'increased'), 1),\n",
              " (('increased', 'cost'), 1),\n",
              " (('cost', 'food'), 1),\n",
              " (('increase', 'participation'), 1),\n",
              " (('participation', 'food'), 1),\n",
              " (('food', 'programs'), 1),\n",
              " (('programs', 'funding'), 1),\n",
              " (('funding', 'staffing'), 1),\n",
              " (('staffing', 'food'), 1),\n",
              " (('access', 'staff'), 1),\n",
              " (('staff', 'volunteers'), 1),\n",
              " (('volunteers', 'truck'), 1),\n",
              " (('truck', 'get'), 1),\n",
              " (('get', 'funding'), 1),\n",
              " (('funding', 'food'), 1),\n",
              " (('insecurity', 'statistics'), 1),\n",
              " (('statistics', 'fully'), 1),\n",
              " (('fully', 'capture'), 1),\n",
              " (('capture', 'scope'), 1),\n",
              " (('scope', 'scale'), 1),\n",
              " (('scale', 'many'), 1),\n",
              " (('many', 'ways'), 1),\n",
              " (('ways', 'marylanders'), 1),\n",
              " (('marylanders', 'experience'), 1),\n",
              " (('experience', 'food'), 1),\n",
              " (('food', 'hardship'), 1),\n",
              " (('hardship', 'due'), 1),\n",
              " (('due', 'underreporting'), 1),\n",
              " (('underreporting', 'defining'), 1),\n",
              " (('defining', 'food'), 1),\n",
              " (('insecurity', 'narrowly'), 1),\n",
              " (('narrowly', 'might'), 1),\n",
              " (('might', 'unwittingly'), 1),\n",
              " (('unwittingly', 'create'), 1),\n",
              " (('create', 'impression'), 1),\n",
              " (('impression', 'maryland'), 1),\n",
              " (('maryland', 'food'), 1),\n",
              " (('food', 'bank'), 1),\n",
              " (('bank', 'prioritizes'), 1),\n",
              " (('prioritizes', 'state'), 1),\n",
              " (('state', 'severely'), 1),\n",
              " (('severely', 'food'), 1),\n",
              " (('food', 'insecure'), 1),\n",
              " (('insecure', 'populations'), 1),\n",
              " (('populations', 'expense'), 1),\n",
              " (('expense', 'residents'), 1),\n",
              " (('residents', 'slightly'), 1),\n",
              " (('slightly', 'higher'), 1),\n",
              " (('higher', 'incomes'), 1),\n",
              " (('incomes', 'need'), 1),\n",
              " (('need', 'obtaining'), 1),\n",
              " (('obtaining', 'realtime'), 1),\n",
              " (('realtime', 'food'), 1),\n",
              " (('insecurity', 'data'), 1),\n",
              " (('data', 'another'), 1),\n",
              " (('another', 'challenge'), 1),\n",
              " (('challenge', 'fi'), 1),\n",
              " (('fi', 'data'), 1),\n",
              " (('data', 'prepandemic'), 1),\n",
              " (('prepandemic', 'census'), 1),\n",
              " (('census', 'household'), 1),\n",
              " (('household', 'pulse'), 1),\n",
              " (('pulse', 'survey'), 1),\n",
              " (('survey', 'uses'), 1),\n",
              " (('uses', 'different'), 1),\n",
              " (('different', 'metric'), 1),\n",
              " (('metric', 'food'), 1),\n",
              " (('food', 'insufficiency'), 1),\n",
              " (('insufficiency', 'localized'), 1),\n",
              " (('localized', 'food'), 1),\n",
              " (('food', 'security'), 1),\n",
              " (('security', 'data'), 1),\n",
              " (('data', 'lags'), 1),\n",
              " (('lags', 'several'), 1),\n",
              " (('several', 'years'), 1),\n",
              " (('years', 'collecting'), 1)]"
            ]
          },
          "metadata": {},
          "execution_count": 39
        }
      ]
    },
    {
      "cell_type": "code",
      "metadata": {
        "colab": {
          "base_uri": "https://localhost:8080/"
        },
        "id": "lfMEnw9tzM11",
        "outputId": "a0bccd93-3640-4247-cd05-5127e197b0ba"
      },
      "source": [
        "df_bigrams = pd.DataFrame(fdist.most_common(2000),\n",
        "                    columns=['Word', 'Frequency'])\n",
        "print(df_bigrams)"
      ],
      "execution_count": null,
      "outputs": [
        {
          "output_type": "stream",
          "name": "stdout",
          "text": [
            "                            Word  Frequency\n",
            "0                (supply, chain)          4\n",
            "1             (food, insecurity)          3\n",
            "2               (food, increase)          2\n",
            "3                 (food, access)          2\n",
            "4    (governmental, regulations)          2\n",
            "..                           ...        ...\n",
            "208            (deserts, fiscal)          1\n",
            "209         (fiscal, limitation)          1\n",
            "210         (limitation, supply)          1\n",
            "211             (chain, product)          1\n",
            "212         (product, shortages)          1\n",
            "\n",
            "[213 rows x 2 columns]\n"
          ]
        }
      ]
    },
    {
      "cell_type": "code",
      "metadata": {
        "id": "pxj0Mk7zBSMh"
      },
      "source": [
        "# convert pandas dataframe to CSV file\n",
        "df_bigrams.to_csv('bigrams.csv')"
      ],
      "execution_count": null,
      "outputs": []
    },
    {
      "cell_type": "markdown",
      "metadata": {
        "id": "hWwr-01ewaqG"
      },
      "source": [
        "# Frequency of word pairs (trigrams)"
      ]
    },
    {
      "cell_type": "code",
      "metadata": {
        "colab": {
          "base_uri": "https://localhost:8080/"
        },
        "id": "3zfpY8DLHm-I",
        "outputId": "c0e48002-9256-49e3-dad1-72223ca07f09"
      },
      "source": [
        "#Create trigrams\n",
        "tgs = nltk.trigrams(words)\n",
        "\n",
        "#compute frequency distribution for all the trigrams in the text\n",
        "fdist2 = nltk.FreqDist(tgs)\n",
        "for k,v in fdist2.items():\n",
        "    print (k,v)"
      ],
      "execution_count": null,
      "outputs": [
        {
          "output_type": "stream",
          "name": "stdout",
          "text": [
            "('enough', 'money', 'purchase') 1\n",
            "('money', 'purchase', 'food') 1\n",
            "('purchase', 'food', 'nt') 1\n",
            "('food', 'nt', 'enough') 1\n",
            "('nt', 'enough', 'donated') 1\n",
            "('enough', 'donated', 'food') 1\n",
            "('donated', 'food', 'available') 1\n",
            "('food', 'available', 'lack') 1\n",
            "('available', 'lack', 'funding') 1\n",
            "('lack', 'funding', 'competition') 1\n",
            "('funding', 'competition', 'funding') 1\n",
            "('competition', 'funding', 'lack') 1\n",
            "('funding', 'lack', 'respects') 1\n",
            "('lack', 'respects', 'agenda') 1\n",
            "('respects', 'agenda', 'organization') 1\n",
            "('agenda', 'organization', 'donors') 1\n",
            "('organization', 'donors', 'supply') 1\n",
            "('donors', 'supply', 'chain') 1\n",
            "('supply', 'chain', 'issues') 1\n",
            "('chain', 'issues', 'increased') 1\n",
            "('issues', 'increased', 'cost') 1\n",
            "('increased', 'cost', 'food') 1\n",
            "('cost', 'food', 'increase') 1\n",
            "('food', 'increase', 'participation') 1\n",
            "('increase', 'participation', 'food') 1\n",
            "('participation', 'food', 'programs') 1\n",
            "('food', 'programs', 'funding') 1\n",
            "('programs', 'funding', 'staffing') 1\n",
            "('funding', 'staffing', 'food') 1\n",
            "('staffing', 'food', 'access') 1\n",
            "('food', 'access', 'staff') 1\n",
            "('access', 'staff', 'volunteers') 1\n",
            "('staff', 'volunteers', 'truck') 1\n",
            "('volunteers', 'truck', 'get') 1\n",
            "('truck', 'get', 'funding') 1\n",
            "('get', 'funding', 'food') 1\n",
            "('funding', 'food', 'insecurity') 1\n",
            "('food', 'insecurity', 'statistics') 1\n",
            "('insecurity', 'statistics', 'fully') 1\n",
            "('statistics', 'fully', 'capture') 1\n",
            "('fully', 'capture', 'scope') 1\n",
            "('capture', 'scope', 'scale') 1\n",
            "('scope', 'scale', 'many') 1\n",
            "('scale', 'many', 'ways') 1\n",
            "('many', 'ways', 'marylanders') 1\n",
            "('ways', 'marylanders', 'experience') 1\n",
            "('marylanders', 'experience', 'food') 1\n",
            "('experience', 'food', 'hardship') 1\n",
            "('food', 'hardship', 'due') 1\n",
            "('hardship', 'due', 'underreporting') 1\n",
            "('due', 'underreporting', 'defining') 1\n",
            "('underreporting', 'defining', 'food') 1\n",
            "('defining', 'food', 'insecurity') 1\n",
            "('food', 'insecurity', 'narrowly') 1\n",
            "('insecurity', 'narrowly', 'might') 1\n",
            "('narrowly', 'might', 'unwittingly') 1\n",
            "('might', 'unwittingly', 'create') 1\n",
            "('unwittingly', 'create', 'impression') 1\n",
            "('create', 'impression', 'maryland') 1\n",
            "('impression', 'maryland', 'food') 1\n",
            "('maryland', 'food', 'bank') 1\n",
            "('food', 'bank', 'prioritizes') 1\n",
            "('bank', 'prioritizes', 'state') 1\n",
            "('prioritizes', 'state', 'severely') 1\n",
            "('state', 'severely', 'food') 1\n",
            "('severely', 'food', 'insecure') 1\n",
            "('food', 'insecure', 'populations') 1\n",
            "('insecure', 'populations', 'expense') 1\n",
            "('populations', 'expense', 'residents') 1\n",
            "('expense', 'residents', 'slightly') 1\n",
            "('residents', 'slightly', 'higher') 1\n",
            "('slightly', 'higher', 'incomes') 1\n",
            "('higher', 'incomes', 'need') 1\n",
            "('incomes', 'need', 'obtaining') 1\n",
            "('need', 'obtaining', 'realtime') 1\n",
            "('obtaining', 'realtime', 'food') 1\n",
            "('realtime', 'food', 'insecurity') 1\n",
            "('food', 'insecurity', 'data') 1\n",
            "('insecurity', 'data', 'another') 1\n",
            "('data', 'another', 'challenge') 1\n",
            "('another', 'challenge', 'fi') 1\n",
            "('challenge', 'fi', 'data') 1\n",
            "('fi', 'data', 'prepandemic') 1\n",
            "('data', 'prepandemic', 'census') 1\n",
            "('prepandemic', 'census', 'household') 1\n",
            "('census', 'household', 'pulse') 1\n",
            "('household', 'pulse', 'survey') 1\n",
            "('pulse', 'survey', 'uses') 1\n",
            "('survey', 'uses', 'different') 1\n",
            "('uses', 'different', 'metric') 1\n",
            "('different', 'metric', 'food') 1\n",
            "('metric', 'food', 'insufficiency') 1\n",
            "('food', 'insufficiency', 'localized') 1\n",
            "('insufficiency', 'localized', 'food') 1\n",
            "('localized', 'food', 'security') 1\n",
            "('food', 'security', 'data') 1\n",
            "('security', 'data', 'lags') 1\n",
            "('data', 'lags', 'several') 1\n",
            "('lags', 'several', 'years') 1\n",
            "('several', 'years', 'collecting') 1\n",
            "('years', 'collecting', 'data') 1\n",
            "('collecting', 'data', 'volunteer') 1\n",
            "('data', 'volunteer', 'led') 1\n",
            "('volunteer', 'led', 'organizations') 1\n",
            "('led', 'organizations', 'challenging') 1\n",
            "('organizations', 'challenging', 'lack') 1\n",
            "('challenging', 'lack', 'statewide') 1\n",
            "('lack', 'statewide', 'access') 1\n",
            "('statewide', 'access', 'high') 1\n",
            "('access', 'high', 'speed') 1\n",
            "('high', 'speed', 'internet') 1\n",
            "('speed', 'internet', 'makes') 1\n",
            "('internet', 'makes', 'data') 1\n",
            "('makes', 'data', 'collection') 1\n",
            "('data', 'collection', 'challenging') 1\n",
            "('collection', 'challenging', 'clear') 1\n",
            "('challenging', 'clear', 'data') 1\n",
            "('clear', 'data', 'outcomes') 1\n",
            "('data', 'outcomes', 'intervention') 1\n",
            "('outcomes', 'intervention', 'reluctance') 1\n",
            "('intervention', 'reluctance', 'clients') 1\n",
            "('reluctance', 'clients', 'share') 1\n",
            "('clients', 'share', 'available') 1\n",
            "('share', 'available', 'resources') 1\n",
            "('available', 'resources', 'meet') 1\n",
            "('resources', 'meet', 'need') 1\n",
            "('meet', 'need', 'erratic') 1\n",
            "('need', 'erratic', 'support') 1\n",
            "('erratic', 'support', 'usda') 1\n",
            "('support', 'usda', 'work') 1\n",
            "('usda', 'work', 'supply') 1\n",
            "('work', 'supply', 'chain') 1\n",
            "('supply', 'chain', 'funding') 1\n",
            "('chain', 'funding', 'distribution') 1\n",
            "('funding', 'distribution', 'funding') 1\n",
            "('distribution', 'funding', 'capacity') 1\n",
            "('funding', 'capacity', 'availability') 1\n",
            "('capacity', 'availability', 'human') 1\n",
            "('availability', 'human', 'resources') 1\n",
            "('human', 'resources', 'available') 1\n",
            "('resources', 'available', 'monitoring') 1\n",
            "('available', 'monitoring', 'budgetfinancial') 1\n",
            "('monitoring', 'budgetfinancial', 'resources') 1\n",
            "('budgetfinancial', 'resources', 'governmental') 1\n",
            "('resources', 'governmental', 'regulations') 1\n",
            "('governmental', 'regulations', 'staffing') 1\n",
            "('regulations', 'staffing', 'monitor') 1\n",
            "('staffing', 'monitor', 'progress') 1\n",
            "('monitor', 'progress', 'budget') 1\n",
            "('progress', 'budget', 'constraints') 1\n",
            "('budget', 'constraints', 'organization') 1\n",
            "('constraints', 'organization', 'carryout') 1\n",
            "('organization', 'carryout', 'mission') 1\n",
            "('carryout', 'mission', 'governmental') 1\n",
            "('mission', 'governmental', 'regulations') 1\n",
            "('governmental', 'regulations', 'funds') 1\n",
            "('regulations', 'funds', 'purchased') 1\n",
            "('funds', 'purchased', 'food') 1\n",
            "('purchased', 'food', 'facility') 1\n",
            "('food', 'facility', 'space') 1\n",
            "('facility', 'space', 'store') 1\n",
            "('space', 'store', 'procured') 1\n",
            "('store', 'procured', 'food') 1\n",
            "('procured', 'food', 'government') 1\n",
            "('food', 'government', 'support') 1\n",
            "('government', 'support', 'local') 1\n",
            "('support', 'local', 'state') 1\n",
            "('local', 'state', 'federal') 1\n",
            "('state', 'federal', 'availability') 1\n",
            "('federal', 'availability', 'food') 1\n",
            "('availability', 'food', 'costs') 1\n",
            "('food', 'costs', 'food') 1\n",
            "('costs', 'food', 'increase') 1\n",
            "('food', 'increase', 'demand') 1\n",
            "('increase', 'demand', 'getting') 1\n",
            "('demand', 'getting', 'accurate') 1\n",
            "('getting', 'accurate', 'data') 1\n",
            "('accurate', 'data', 'member') 1\n",
            "('data', 'member', 'agencies') 1\n",
            "('member', 'agencies', 'prioritizing') 1\n",
            "('agencies', 'prioritizing', 'need') 1\n",
            "('prioritizing', 'need', 'various') 1\n",
            "('need', 'various', 'agencies') 1\n",
            "('various', 'agencies', 'lack') 1\n",
            "('agencies', 'lack', 'space') 1\n",
            "('lack', 'space', 'optimize') 1\n",
            "('space', 'optimize', 'food') 1\n",
            "('optimize', 'food', 'procurement') 1\n",
            "('food', 'procurement', 'need') 1\n",
            "('procurement', 'need', 'food') 1\n",
            "('need', 'food', 'availability') 1\n",
            "('food', 'availability', 'location') 1\n",
            "('availability', 'location', 'funding') 1\n",
            "('location', 'funding', 'generally') 1\n",
            "('funding', 'generally', 'limited') 1\n",
            "('generally', 'limited', 'year') 1\n",
            "('limited', 'year', 'recognize') 1\n",
            "('year', 'recognize', 'sustainable') 1\n",
            "('recognize', 'sustainable', 'funding') 1\n",
            "('sustainable', 'funding', 'would') 1\n",
            "('funding', 'would', 'provide') 1\n",
            "('would', 'provide', 'consistent') 1\n",
            "('provide', 'consistent', 'food') 1\n",
            "('consistent', 'food', 'access') 1\n",
            "('food', 'access', 'supply') 1\n",
            "('access', 'supply', 'chain') 1\n",
            "('supply', 'chain', 'usda') 1\n",
            "('chain', 'usda', 'food') 1\n",
            "('usda', 'food', 'orders') 1\n",
            "('food', 'orders', 'finding') 1\n",
            "('orders', 'finding', 'agencies') 1\n",
            "('finding', 'agencies', 'distribute') 1\n",
            "('agencies', 'distribute', 'food') 1\n",
            "('distribute', 'food', 'deserts') 1\n",
            "('food', 'deserts', 'fiscal') 1\n",
            "('deserts', 'fiscal', 'limitation') 1\n",
            "('fiscal', 'limitation', 'supply') 1\n",
            "('limitation', 'supply', 'chain') 1\n",
            "('supply', 'chain', 'product') 1\n",
            "('chain', 'product', 'shortages') 1\n"
          ]
        }
      ]
    },
    {
      "cell_type": "code",
      "metadata": {
        "colab": {
          "base_uri": "https://localhost:8080/"
        },
        "id": "GX7oHseDHnPA",
        "outputId": "fa81853c-ac08-4cd4-884e-e006fd56488a"
      },
      "source": [
        "fdist2.most_common(100)"
      ],
      "execution_count": null,
      "outputs": [
        {
          "output_type": "execute_result",
          "data": {
            "text/plain": [
              "[(('enough', 'money', 'purchase'), 1),\n",
              " (('money', 'purchase', 'food'), 1),\n",
              " (('purchase', 'food', 'nt'), 1),\n",
              " (('food', 'nt', 'enough'), 1),\n",
              " (('nt', 'enough', 'donated'), 1),\n",
              " (('enough', 'donated', 'food'), 1),\n",
              " (('donated', 'food', 'available'), 1),\n",
              " (('food', 'available', 'lack'), 1),\n",
              " (('available', 'lack', 'funding'), 1),\n",
              " (('lack', 'funding', 'competition'), 1),\n",
              " (('funding', 'competition', 'funding'), 1),\n",
              " (('competition', 'funding', 'lack'), 1),\n",
              " (('funding', 'lack', 'respects'), 1),\n",
              " (('lack', 'respects', 'agenda'), 1),\n",
              " (('respects', 'agenda', 'organization'), 1),\n",
              " (('agenda', 'organization', 'donors'), 1),\n",
              " (('organization', 'donors', 'supply'), 1),\n",
              " (('donors', 'supply', 'chain'), 1),\n",
              " (('supply', 'chain', 'issues'), 1),\n",
              " (('chain', 'issues', 'increased'), 1),\n",
              " (('issues', 'increased', 'cost'), 1),\n",
              " (('increased', 'cost', 'food'), 1),\n",
              " (('cost', 'food', 'increase'), 1),\n",
              " (('food', 'increase', 'participation'), 1),\n",
              " (('increase', 'participation', 'food'), 1),\n",
              " (('participation', 'food', 'programs'), 1),\n",
              " (('food', 'programs', 'funding'), 1),\n",
              " (('programs', 'funding', 'staffing'), 1),\n",
              " (('funding', 'staffing', 'food'), 1),\n",
              " (('staffing', 'food', 'access'), 1),\n",
              " (('food', 'access', 'staff'), 1),\n",
              " (('access', 'staff', 'volunteers'), 1),\n",
              " (('staff', 'volunteers', 'truck'), 1),\n",
              " (('volunteers', 'truck', 'get'), 1),\n",
              " (('truck', 'get', 'funding'), 1),\n",
              " (('get', 'funding', 'food'), 1),\n",
              " (('funding', 'food', 'insecurity'), 1),\n",
              " (('food', 'insecurity', 'statistics'), 1),\n",
              " (('insecurity', 'statistics', 'fully'), 1),\n",
              " (('statistics', 'fully', 'capture'), 1),\n",
              " (('fully', 'capture', 'scope'), 1),\n",
              " (('capture', 'scope', 'scale'), 1),\n",
              " (('scope', 'scale', 'many'), 1),\n",
              " (('scale', 'many', 'ways'), 1),\n",
              " (('many', 'ways', 'marylanders'), 1),\n",
              " (('ways', 'marylanders', 'experience'), 1),\n",
              " (('marylanders', 'experience', 'food'), 1),\n",
              " (('experience', 'food', 'hardship'), 1),\n",
              " (('food', 'hardship', 'due'), 1),\n",
              " (('hardship', 'due', 'underreporting'), 1),\n",
              " (('due', 'underreporting', 'defining'), 1),\n",
              " (('underreporting', 'defining', 'food'), 1),\n",
              " (('defining', 'food', 'insecurity'), 1),\n",
              " (('food', 'insecurity', 'narrowly'), 1),\n",
              " (('insecurity', 'narrowly', 'might'), 1),\n",
              " (('narrowly', 'might', 'unwittingly'), 1),\n",
              " (('might', 'unwittingly', 'create'), 1),\n",
              " (('unwittingly', 'create', 'impression'), 1),\n",
              " (('create', 'impression', 'maryland'), 1),\n",
              " (('impression', 'maryland', 'food'), 1),\n",
              " (('maryland', 'food', 'bank'), 1),\n",
              " (('food', 'bank', 'prioritizes'), 1),\n",
              " (('bank', 'prioritizes', 'state'), 1),\n",
              " (('prioritizes', 'state', 'severely'), 1),\n",
              " (('state', 'severely', 'food'), 1),\n",
              " (('severely', 'food', 'insecure'), 1),\n",
              " (('food', 'insecure', 'populations'), 1),\n",
              " (('insecure', 'populations', 'expense'), 1),\n",
              " (('populations', 'expense', 'residents'), 1),\n",
              " (('expense', 'residents', 'slightly'), 1),\n",
              " (('residents', 'slightly', 'higher'), 1),\n",
              " (('slightly', 'higher', 'incomes'), 1),\n",
              " (('higher', 'incomes', 'need'), 1),\n",
              " (('incomes', 'need', 'obtaining'), 1),\n",
              " (('need', 'obtaining', 'realtime'), 1),\n",
              " (('obtaining', 'realtime', 'food'), 1),\n",
              " (('realtime', 'food', 'insecurity'), 1),\n",
              " (('food', 'insecurity', 'data'), 1),\n",
              " (('insecurity', 'data', 'another'), 1),\n",
              " (('data', 'another', 'challenge'), 1),\n",
              " (('another', 'challenge', 'fi'), 1),\n",
              " (('challenge', 'fi', 'data'), 1),\n",
              " (('fi', 'data', 'prepandemic'), 1),\n",
              " (('data', 'prepandemic', 'census'), 1),\n",
              " (('prepandemic', 'census', 'household'), 1),\n",
              " (('census', 'household', 'pulse'), 1),\n",
              " (('household', 'pulse', 'survey'), 1),\n",
              " (('pulse', 'survey', 'uses'), 1),\n",
              " (('survey', 'uses', 'different'), 1),\n",
              " (('uses', 'different', 'metric'), 1),\n",
              " (('different', 'metric', 'food'), 1),\n",
              " (('metric', 'food', 'insufficiency'), 1),\n",
              " (('food', 'insufficiency', 'localized'), 1),\n",
              " (('insufficiency', 'localized', 'food'), 1),\n",
              " (('localized', 'food', 'security'), 1),\n",
              " (('food', 'security', 'data'), 1),\n",
              " (('security', 'data', 'lags'), 1),\n",
              " (('data', 'lags', 'several'), 1),\n",
              " (('lags', 'several', 'years'), 1),\n",
              " (('several', 'years', 'collecting'), 1)]"
            ]
          },
          "metadata": {},
          "execution_count": 43
        }
      ]
    },
    {
      "cell_type": "code",
      "metadata": {
        "colab": {
          "base_uri": "https://localhost:8080/"
        },
        "id": "v-DxJ0hbHnZq",
        "outputId": "e4bd24fa-1c01-4616-8380-e58e91eef408"
      },
      "source": [
        "df_trigrams = pd.DataFrame(fdist2.most_common(2000),\n",
        "                    columns=['Word', 'Frequency'])\n",
        "print(df_trigrams)"
      ],
      "execution_count": null,
      "outputs": [
        {
          "output_type": "stream",
          "name": "stdout",
          "text": [
            "                              Word  Frequency\n",
            "0        (enough, money, purchase)          1\n",
            "1          (money, purchase, food)          1\n",
            "2             (purchase, food, nt)          1\n",
            "3               (food, nt, enough)          1\n",
            "4            (nt, enough, donated)          1\n",
            "..                             ...        ...\n",
            "215  (deserts, fiscal, limitation)          1\n",
            "216   (fiscal, limitation, supply)          1\n",
            "217    (limitation, supply, chain)          1\n",
            "218       (supply, chain, product)          1\n",
            "219    (chain, product, shortages)          1\n",
            "\n",
            "[220 rows x 2 columns]\n"
          ]
        }
      ]
    },
    {
      "cell_type": "code",
      "metadata": {
        "id": "4hMRQZEqHnjM"
      },
      "source": [
        "# convert pandas dataframe to CSV file\n",
        "df_trigrams.to_csv('trigrams.csv')"
      ],
      "execution_count": null,
      "outputs": []
    },
    {
      "cell_type": "code",
      "metadata": {
        "id": "DZOX2i0xHnpS"
      },
      "source": [
        ""
      ],
      "execution_count": null,
      "outputs": []
    }
  ]
}